{
 "cells": [
  {
   "cell_type": "markdown",
   "id": "21f9dbfe",
   "metadata": {},
   "source": [
    "# Use CDF to Calculate Probabilities\n",
    "Use the normal cumulative distribution function with the mean and standard deviation of female height to calculate the probability that a female's height is:\n",
    "\n",
    "1. between 55.0 and 56.0 inches\n",
    "\n",
    "2. is less than 5 feet (60 in)\n",
    "\n",
    "3. is greater than the mean (hint: do you know this answer intuitively?)"
   ]
  },
  {
   "cell_type": "markdown",
   "id": "6ae4c2d8",
   "metadata": {},
   "source": [
    "### Import Libraries"
   ]
  },
  {
   "cell_type": "code",
   "execution_count": 1,
   "id": "20e1a835",
   "metadata": {},
   "outputs": [],
   "source": [
    "import pandas as pd\n",
    "import numpy as np\n",
    "import matplotlib.pyplot as plt\n",
    "import seaborn as sns\n",
    "import scipy.stats as stats"
   ]
  },
  {
   "cell_type": "markdown",
   "id": "71f7cab9",
   "metadata": {},
   "source": [
    "### Upload Data"
   ]
  },
  {
   "cell_type": "code",
   "execution_count": 3,
   "id": "a4339b84",
   "metadata": {},
   "outputs": [
    {
     "data": {
      "text/html": [
       "<div>\n",
       "<style scoped>\n",
       "    .dataframe tbody tr th:only-of-type {\n",
       "        vertical-align: middle;\n",
       "    }\n",
       "\n",
       "    .dataframe tbody tr th {\n",
       "        vertical-align: top;\n",
       "    }\n",
       "\n",
       "    .dataframe thead th {\n",
       "        text-align: right;\n",
       "    }\n",
       "</style>\n",
       "<table border=\"1\" class=\"dataframe\">\n",
       "  <thead>\n",
       "    <tr style=\"text-align: right;\">\n",
       "      <th></th>\n",
       "      <th>Gender</th>\n",
       "      <th>Height</th>\n",
       "      <th>Weight</th>\n",
       "    </tr>\n",
       "  </thead>\n",
       "  <tbody>\n",
       "    <tr>\n",
       "      <th>0</th>\n",
       "      <td>Male</td>\n",
       "      <td>73.847017</td>\n",
       "      <td>241.893563</td>\n",
       "    </tr>\n",
       "    <tr>\n",
       "      <th>1</th>\n",
       "      <td>Male</td>\n",
       "      <td>68.781904</td>\n",
       "      <td>162.310473</td>\n",
       "    </tr>\n",
       "    <tr>\n",
       "      <th>2</th>\n",
       "      <td>Male</td>\n",
       "      <td>74.110105</td>\n",
       "      <td>212.740856</td>\n",
       "    </tr>\n",
       "    <tr>\n",
       "      <th>3</th>\n",
       "      <td>Male</td>\n",
       "      <td>71.730978</td>\n",
       "      <td>220.042470</td>\n",
       "    </tr>\n",
       "    <tr>\n",
       "      <th>4</th>\n",
       "      <td>Male</td>\n",
       "      <td>69.881796</td>\n",
       "      <td>206.349801</td>\n",
       "    </tr>\n",
       "  </tbody>\n",
       "</table>\n",
       "</div>"
      ],
      "text/plain": [
       "  Gender     Height      Weight\n",
       "0   Male  73.847017  241.893563\n",
       "1   Male  68.781904  162.310473\n",
       "2   Male  74.110105  212.740856\n",
       "3   Male  71.730978  220.042470\n",
       "4   Male  69.881796  206.349801"
      ]
     },
     "execution_count": 3,
     "metadata": {},
     "output_type": "execute_result"
    }
   ],
   "source": [
    "#import file\n",
    "filename = \"Data/data.csv\"\n",
    "df = pd.read_csv(filename, low_memory = False)\n",
    "df.head()"
   ]
  },
  {
   "cell_type": "code",
   "execution_count": 4,
   "id": "27b061ba",
   "metadata": {},
   "outputs": [],
   "source": [
    "#filtering out to get just the females\n",
    "males = df.loc[ df['Gender'] == 'Male'].copy()\n",
    "females = df.loc[ df['Gender'] == 'Female'].copy()"
   ]
  },
  {
   "cell_type": "code",
   "execution_count": 5,
   "id": "62a871cf",
   "metadata": {},
   "outputs": [],
   "source": [
    "#feature of interest\n",
    "data = females['Height']"
   ]
  },
  {
   "cell_type": "code",
   "execution_count": 6,
   "id": "b53c6dff",
   "metadata": {},
   "outputs": [],
   "source": [
    "#getting stats needed to calculate cdf\n",
    "mean = data.mean()\n",
    "std = data.std()\n",
    "min = data.min()\n",
    "max = data.max()"
   ]
  },
  {
   "cell_type": "code",
   "execution_count": 7,
   "id": "e8943cc9",
   "metadata": {},
   "outputs": [],
   "source": [
    "x_spacing = np.linspace(min, max,1000)"
   ]
  },
  {
   "cell_type": "code",
   "execution_count": 8,
   "id": "a56d93b6",
   "metadata": {},
   "outputs": [],
   "source": [
    "cdf = stats.norm.cdf(x_spacing, loc=mean, scale=std)"
   ]
  },
  {
   "cell_type": "markdown",
   "id": "db6b09c0",
   "metadata": {},
   "source": [
    "## 1. Height between 55.0 and 56.0 inches"
   ]
  },
  {
   "cell_type": "code",
   "execution_count": 9,
   "id": "e39abb37",
   "metadata": {},
   "outputs": [],
   "source": [
    "#creating high and low variables\n",
    "high= 56\n",
    "low= 55"
   ]
  },
  {
   "cell_type": "code",
   "execution_count": 11,
   "id": "60926e3b",
   "metadata": {},
   "outputs": [
    {
     "data": {
      "image/png": "[encoded data removed]",
      "text/plain": [
       "<Figure size 800x500 with 1 Axes>"
      ]
     },
     "metadata": {},
     "output_type": "display_data"
    }
   ],
   "source": [
    "#plotting cdf and showing area of interest\n",
    "fig, ax = plt.subplots(figsize=(8,5))\n",
    "sns.histplot(x=data, stat='density', cumulative = True)\n",
    "ax.plot(x_spacing,cdf)\n",
    "ax.axvline(low, color= 'black')\n",
    "ax.axvline(high, color ='black')\n",
    "ax.axvspan(low, high, color ='yellow', zorder = 0)\n",
    "ax.set_title('Range of Interest');"
   ]
  },
  {
   "cell_type": "code",
   "execution_count": 12,
   "id": "038a64d3",
   "metadata": {},
   "outputs": [
    {
     "data": {
      "text/plain": [
       "0.0015055206795372414"
      ]
     },
     "execution_count": 12,
     "metadata": {},
     "output_type": "execute_result"
    }
   ],
   "source": [
    "## we subtract to find the probability of a value occurring in the range\n",
    "stats.norm.cdf(high, loc=mean,scale=std) - stats.norm.cdf(low,loc=mean, scale=std)"
   ]
  },
  {
   "cell_type": "markdown",
   "id": "b9b4750e",
   "metadata": {},
   "source": [
    "## 2. Height is less than 5 feet (60 in)"
   ]
  },
  {
   "cell_type": "code",
   "execution_count": 13,
   "id": "dc332876",
   "metadata": {},
   "outputs": [
    {
     "data": {
      "text/plain": [
       "0.0844862355340375"
      ]
     },
     "execution_count": 13,
     "metadata": {},
     "output_type": "execute_result"
    }
   ],
   "source": [
    "#there is no need to subtract for less than x calculations\n",
    "stats.norm.cdf(60, loc=mean,scale=std)"
   ]
  },
  {
   "cell_type": "markdown",
   "id": "e1d6c079",
   "metadata": {},
   "source": [
    "# 3. Height is greater than the mean (hint: do you know this answer intuitively?)"
   ]
  },
  {
   "cell_type": "code",
   "execution_count": 14,
   "id": "c8b65d6e",
   "metadata": {},
   "outputs": [
    {
     "data": {
      "text/plain": [
       "63.708773603458006"
      ]
     },
     "execution_count": 14,
     "metadata": {},
     "output_type": "execute_result"
    }
   ],
   "source": [
    "mean"
   ]
  },
  {
   "cell_type": "code",
   "execution_count": 15,
   "id": "943a687c",
   "metadata": {},
   "outputs": [
    {
     "data": {
      "text/plain": [
       "0.5"
      ]
     },
     "execution_count": 15,
     "metadata": {},
     "output_type": "execute_result"
    }
   ],
   "source": [
    "#for greater than x calculation you have to subtract from 1\n",
    "1 -stats.norm.cdf(mean, loc=mean,scale=std)"
   ]
  },
  {
   "cell_type": "code",
   "execution_count": null,
   "id": "8822654b",
   "metadata": {},
   "outputs": [],
   "source": []
  }
 ],
 "metadata": {
  "kernelspec": {
   "display_name": "Python 3 (ipykernel)",
   "language": "python",
   "name": "python3"
  },
  "language_info": {
   "codemirror_mode": {
    "name": "ipython",
    "version": 3
   },
   "file_extension": ".py",
   "mimetype": "text/x-python",
   "name": "python",
   "nbconvert_exporter": "python",
   "pygments_lexer": "ipython3",
   "version": "3.9.15"
  },
  "toc": {
   "base_numbering": 1,
   "nav_menu": {},
   "number_sections": false,
   "sideBar": true,
   "skip_h1_title": false,
   "title_cell": "Table of Contents",
   "title_sidebar": "Contents",
   "toc_cell": false,
   "toc_position": {},
   "toc_section_display": true,
   "toc_window_display": false
  }
 },
 "nbformat": 4,
 "nbformat_minor": 5
}
